{
 "cells": [
  {
   "cell_type": "markdown",
   "id": "e5bbf5bf",
   "metadata": {},
   "source": [
    "## Attempting data analysis for P1\n",
    "TODO:\n",
    "1. merge relevant datasets\n",
    "2. extract all gestures with mappings to text descriptions\n",
    "3. preliminary attemps to classify gesture\n",
    "4. generate visualizations"
   ]
  },
  {
   "cell_type": "code",
   "execution_count": 4,
   "id": "e560781f",
   "metadata": {},
   "outputs": [],
   "source": [
    "import pandas as pd\n",
    "import numpy as np\n",
    "import glob\n",
    "import os"
   ]
  },
  {
   "cell_type": "markdown",
   "id": "eadbf78b",
   "metadata": {},
   "source": [
    "### 1. merge relevant datasets"
   ]
  },
  {
   "cell_type": "code",
   "execution_count": 47,
   "id": "7393bfb5",
   "metadata": {},
   "outputs": [],
   "source": [
    "cwd = os.getcwd()\n",
    "all_flat = sorted(glob.glob(os.path.join(cwd, \"data/P1*FLAT*csv\")))\n",
    "all_pillow = sorted(glob.glob(os.path.join(cwd, \"data/P1*PILLOW*.csv\")))"
   ]
  },
  {
   "cell_type": "code",
   "execution_count": 51,
   "id": "51b49393",
   "metadata": {},
   "outputs": [],
   "source": [
    "gestures = {\n",
    "    109: \"massage\",\n",
    "    114: \"rub\",\n",
    "    100: \"drag\",\n",
    "    115: \"slide\",\n",
    "    112: \"poke\",\n",
    "    97: \"pat\",\n",
    "    101: \"press\",\n",
    "    116: \"tap\",\n",
    "    110: \"pinch\",\n",
    "    107: \"knead\",\n",
    "    119: \"twist\",\n",
    "    111: \"none\",\n",
    "    99: \"constant\"\n",
    "}"
   ]
  },
  {
   "cell_type": "code",
   "execution_count": 52,
   "id": "6441e9f2",
   "metadata": {},
   "outputs": [],
   "source": [
    "pressure_idx = list(filter(lambda n:n%5==3, range(1, 181)))\n",
    "shear_up_idx = list(filter(lambda n:n%5==1, range(1, 181)))\n",
    "shear_down_idx = list(filter(lambda n:n%5==0, range(1, 181)))\n",
    "shear_left_idx = list(filter(lambda n:n%5==2, range(1, 181)))\n",
    "shear_right_idx = list(filter(lambda n:n%5==4, range(1, 181)))\n",
    "\n",
    "def transform_raw_data(df):\n",
    "    def find_shear_x(l, r, l_avg, r_avg):\n",
    "        return (l*r_avg - r*l_avg)/(l_avg + r_avg)\n",
    "\n",
    "    def find_shear_y(u, d, u_avg, d_avg):\n",
    "        return (u*d_avg - d*u_avg)/(u_avg + d_avg)\n",
    "    \n",
    "    avg = df.iloc[0, 1:181].to_numpy()\n",
    "    time_stamps = df.pop(df.columns[0])\n",
    "    labels = df.pop(df.columns[181]).map(lambda x: gestures.get(x))\n",
    "    \n",
    "    pressure = df[pressure_idx].to_numpy()\n",
    "    shear_up = df[shear_up_idx].to_numpy()\n",
    "    shear_down = df[shear_down_idx].to_numpy()\n",
    "    shear_left = df[shear_left_idx].to_numpy()\n",
    "    shear_right = df[shear_right_idx].to_numpy()\n",
    "    \n",
    "    shear_y = np.zeros(shear_up.shape)\n",
    "    shear_x = np.zeros(shear_up.shape)\n",
    "\n",
    "    for i in range(0, shear_up.shape[0]):\n",
    "        for j in range(0, 36):\n",
    "            shear_y[i][j] = find_shear_y(shear_up[i][j], shear_down[i][j], avg[5*j], avg[5*j+4])\n",
    "            shear_x[i][j] = find_shear_x(shear_left[i][j], shear_right[i][j], avg[5*j+1], avg[5*j+3])\n",
    "            \n",
    "    shear_y_3d = shear_y.reshape(6, 6, shear_y.shape[0])\n",
    "    shear_x_3d = shear_x.reshape(6, 6, shear_y.shape[0])\n",
    "    pressure_3d = pressure.reshape(6, 6, shear_y.shape[0])\n",
    "    \n",
    "    shear_y_3d[np.where(np.isnan(shear_y_3d))] = 0\n",
    "    shear_x_3d[np.where(np.isnan(shear_x_3d))] = 0\n",
    "    pressure_3d[np.where(np.isnan(pressure_3d))] = 0\n",
    "\n",
    "    return (shear_x_3d, shear_y_3d, pressure_3d, labels)\n",
    "    "
   ]
  },
  {
   "cell_type": "code",
   "execution_count": 53,
   "id": "91c925a7",
   "metadata": {},
   "outputs": [
    {
     "ename": "KeyError",
     "evalue": "0",
     "output_type": "error",
     "traceback": [
      "\u001b[0;31m---------------------------------------------------------------------------\u001b[0m",
      "\u001b[0;31mKeyError\u001b[0m                                  Traceback (most recent call last)",
      "Input \u001b[0;32mIn [53]\u001b[0m, in \u001b[0;36m<cell line: 2>\u001b[0;34m()\u001b[0m\n\u001b[1;32m      1\u001b[0m df \u001b[38;5;241m=\u001b[39m pd\u001b[38;5;241m.\u001b[39mread_csv(all_flat[\u001b[38;5;241m0\u001b[39m], header\u001b[38;5;241m=\u001b[39m\u001b[38;5;28;01mNone\u001b[39;00m, skiprows\u001b[38;5;241m=\u001b[39m[\u001b[38;5;241m0\u001b[39m])\n\u001b[0;32m----> 2\u001b[0m shear_x_3d, shear_y_3d, pressure_3d, labels \u001b[38;5;241m=\u001b[39m \u001b[43mtransform_raw_data\u001b[49m\u001b[43m(\u001b[49m\u001b[43mdf\u001b[49m\u001b[43m)\u001b[49m\n\u001b[1;32m      3\u001b[0m \u001b[38;5;28mprint\u001b[39m(shear_x_3d)\n\u001b[1;32m      4\u001b[0m \u001b[38;5;28mprint\u001b[39m(shear_y_3d)\n",
      "Input \u001b[0;32mIn [52]\u001b[0m, in \u001b[0;36mtransform_raw_data\u001b[0;34m(df)\u001b[0m\n\u001b[1;32m     14\u001b[0m avg \u001b[38;5;241m=\u001b[39m df\u001b[38;5;241m.\u001b[39miloc[\u001b[38;5;241m0\u001b[39m, \u001b[38;5;241m1\u001b[39m:\u001b[38;5;241m181\u001b[39m]\u001b[38;5;241m.\u001b[39mto_numpy()\n\u001b[1;32m     15\u001b[0m time_stamps \u001b[38;5;241m=\u001b[39m df\u001b[38;5;241m.\u001b[39mpop(df\u001b[38;5;241m.\u001b[39mcolumns[\u001b[38;5;241m0\u001b[39m])\n\u001b[0;32m---> 16\u001b[0m labels \u001b[38;5;241m=\u001b[39m \u001b[43mdf\u001b[49m\u001b[38;5;241;43m.\u001b[39;49m\u001b[43mpop\u001b[49m\u001b[43m(\u001b[49m\u001b[43mdf\u001b[49m\u001b[38;5;241;43m.\u001b[39;49m\u001b[43mcolumns\u001b[49m\u001b[43m[\u001b[49m\u001b[38;5;241;43m181\u001b[39;49m\u001b[43m]\u001b[49m\u001b[43m)\u001b[49m\u001b[38;5;241;43m.\u001b[39;49m\u001b[43mmap\u001b[49m\u001b[43m(\u001b[49m\u001b[38;5;28;43;01mlambda\u001b[39;49;00m\u001b[43m \u001b[49m\u001b[43mx\u001b[49m\u001b[43m:\u001b[49m\u001b[43m \u001b[49m\u001b[43mgestures\u001b[49m\u001b[43m[\u001b[49m\u001b[43mx\u001b[49m\u001b[43m]\u001b[49m\u001b[43m)\u001b[49m\n\u001b[1;32m     18\u001b[0m pressure \u001b[38;5;241m=\u001b[39m df[pressure_idx]\u001b[38;5;241m.\u001b[39mto_numpy()\n\u001b[1;32m     19\u001b[0m shear_up \u001b[38;5;241m=\u001b[39m df[shear_up_idx]\u001b[38;5;241m.\u001b[39mto_numpy()\n",
      "File \u001b[0;32m~/opt/anaconda3/lib/python3.9/site-packages/pandas/core/series.py:4237\u001b[0m, in \u001b[0;36mSeries.map\u001b[0;34m(self, arg, na_action)\u001b[0m\n\u001b[1;32m   4162\u001b[0m \u001b[38;5;28;01mdef\u001b[39;00m \u001b[38;5;21mmap\u001b[39m(\u001b[38;5;28mself\u001b[39m, arg, na_action\u001b[38;5;241m=\u001b[39m\u001b[38;5;28;01mNone\u001b[39;00m) \u001b[38;5;241m-\u001b[39m\u001b[38;5;241m>\u001b[39m Series:\n\u001b[1;32m   4163\u001b[0m     \u001b[38;5;124;03m\"\"\"\u001b[39;00m\n\u001b[1;32m   4164\u001b[0m \u001b[38;5;124;03m    Map values of Series according to an input mapping or function.\u001b[39;00m\n\u001b[1;32m   4165\u001b[0m \n\u001b[0;32m   (...)\u001b[0m\n\u001b[1;32m   4235\u001b[0m \u001b[38;5;124;03m    dtype: object\u001b[39;00m\n\u001b[1;32m   4236\u001b[0m \u001b[38;5;124;03m    \"\"\"\u001b[39;00m\n\u001b[0;32m-> 4237\u001b[0m     new_values \u001b[38;5;241m=\u001b[39m \u001b[38;5;28;43mself\u001b[39;49m\u001b[38;5;241;43m.\u001b[39;49m\u001b[43m_map_values\u001b[49m\u001b[43m(\u001b[49m\u001b[43marg\u001b[49m\u001b[43m,\u001b[49m\u001b[43m \u001b[49m\u001b[43mna_action\u001b[49m\u001b[38;5;241;43m=\u001b[39;49m\u001b[43mna_action\u001b[49m\u001b[43m)\u001b[49m\n\u001b[1;32m   4238\u001b[0m     \u001b[38;5;28;01mreturn\u001b[39;00m \u001b[38;5;28mself\u001b[39m\u001b[38;5;241m.\u001b[39m_constructor(new_values, index\u001b[38;5;241m=\u001b[39m\u001b[38;5;28mself\u001b[39m\u001b[38;5;241m.\u001b[39mindex)\u001b[38;5;241m.\u001b[39m__finalize__(\n\u001b[1;32m   4239\u001b[0m         \u001b[38;5;28mself\u001b[39m, method\u001b[38;5;241m=\u001b[39m\u001b[38;5;124m\"\u001b[39m\u001b[38;5;124mmap\u001b[39m\u001b[38;5;124m\"\u001b[39m\n\u001b[1;32m   4240\u001b[0m     )\n",
      "File \u001b[0;32m~/opt/anaconda3/lib/python3.9/site-packages/pandas/core/base.py:880\u001b[0m, in \u001b[0;36mIndexOpsMixin._map_values\u001b[0;34m(self, mapper, na_action)\u001b[0m\n\u001b[1;32m    877\u001b[0m         \u001b[38;5;28;01mraise\u001b[39;00m \u001b[38;5;167;01mValueError\u001b[39;00m(msg)\n\u001b[1;32m    879\u001b[0m \u001b[38;5;66;03m# mapper is a function\u001b[39;00m\n\u001b[0;32m--> 880\u001b[0m new_values \u001b[38;5;241m=\u001b[39m \u001b[43mmap_f\u001b[49m\u001b[43m(\u001b[49m\u001b[43mvalues\u001b[49m\u001b[43m,\u001b[49m\u001b[43m \u001b[49m\u001b[43mmapper\u001b[49m\u001b[43m)\u001b[49m\n\u001b[1;32m    882\u001b[0m \u001b[38;5;28;01mreturn\u001b[39;00m new_values\n",
      "File \u001b[0;32m~/opt/anaconda3/lib/python3.9/site-packages/pandas/_libs/lib.pyx:2870\u001b[0m, in \u001b[0;36mpandas._libs.lib.map_infer\u001b[0;34m()\u001b[0m\n",
      "Input \u001b[0;32mIn [52]\u001b[0m, in \u001b[0;36mtransform_raw_data.<locals>.<lambda>\u001b[0;34m(x)\u001b[0m\n\u001b[1;32m     14\u001b[0m avg \u001b[38;5;241m=\u001b[39m df\u001b[38;5;241m.\u001b[39miloc[\u001b[38;5;241m0\u001b[39m, \u001b[38;5;241m1\u001b[39m:\u001b[38;5;241m181\u001b[39m]\u001b[38;5;241m.\u001b[39mto_numpy()\n\u001b[1;32m     15\u001b[0m time_stamps \u001b[38;5;241m=\u001b[39m df\u001b[38;5;241m.\u001b[39mpop(df\u001b[38;5;241m.\u001b[39mcolumns[\u001b[38;5;241m0\u001b[39m])\n\u001b[0;32m---> 16\u001b[0m labels \u001b[38;5;241m=\u001b[39m df\u001b[38;5;241m.\u001b[39mpop(df\u001b[38;5;241m.\u001b[39mcolumns[\u001b[38;5;241m181\u001b[39m])\u001b[38;5;241m.\u001b[39mmap(\u001b[38;5;28;01mlambda\u001b[39;00m x: \u001b[43mgestures\u001b[49m\u001b[43m[\u001b[49m\u001b[43mx\u001b[49m\u001b[43m]\u001b[49m)\n\u001b[1;32m     18\u001b[0m pressure \u001b[38;5;241m=\u001b[39m df[pressure_idx]\u001b[38;5;241m.\u001b[39mto_numpy()\n\u001b[1;32m     19\u001b[0m shear_up \u001b[38;5;241m=\u001b[39m df[shear_up_idx]\u001b[38;5;241m.\u001b[39mto_numpy()\n",
      "\u001b[0;31mKeyError\u001b[0m: 0"
     ]
    }
   ],
   "source": [
    "df = pd.read_csv(all_flat[0], header=None, skiprows=[0])\n",
    "shear_x_3d, shear_y_3d, pressure_3d, labels = transform_raw_data(df)\n",
    "print(shear_x_3d)\n",
    "print(shear_y_3d)\n",
    "print(pressure_3d)\n",
    "print(labels)"
   ]
  },
  {
   "cell_type": "code",
   "execution_count": 46,
   "id": "de68684a",
   "metadata": {},
   "outputs": [
    {
     "data": {
      "text/plain": [
       "['/Users/suzettesun/ubc/spin/shear-sense/data/P1_Mar15th2023_1_FLAT 17_26_17.csv',\n",
       " '/Users/suzettesun/ubc/spin/shear-sense/data/P1_Mar15th2023_1_FLAT 18_07_22.csv']"
      ]
     },
     "execution_count": 46,
     "metadata": {},
     "output_type": "execute_result"
    }
   ],
   "source": [
    "sorted(all_flat)"
   ]
  },
  {
   "cell_type": "code",
   "execution_count": null,
   "id": "cc5342fd",
   "metadata": {},
   "outputs": [],
   "source": []
  },
  {
   "cell_type": "code",
   "execution_count": 4,
   "id": "81fe2407",
   "metadata": {},
   "outputs": [],
   "source": []
  },
  {
   "cell_type": "code",
   "execution_count": 5,
   "id": "bbd23ceb",
   "metadata": {},
   "outputs": [],
   "source": []
  },
  {
   "cell_type": "code",
   "execution_count": 6,
   "id": "1e2af550",
   "metadata": {},
   "outputs": [],
   "source": []
  },
  {
   "cell_type": "code",
   "execution_count": 7,
   "id": "afa23c06",
   "metadata": {},
   "outputs": [],
   "source": []
  },
  {
   "cell_type": "code",
   "execution_count": 8,
   "id": "c42f1b42",
   "metadata": {},
   "outputs": [],
   "source": []
  },
  {
   "cell_type": "code",
   "execution_count": 9,
   "id": "e7eae775-668a-49d5-8e02-e2e6c86d3a6f",
   "metadata": {},
   "outputs": [],
   "source": []
  },
  {
   "cell_type": "code",
   "execution_count": 10,
   "id": "d1162d3b",
   "metadata": {},
   "outputs": [],
   "source": [
    "outcome = df.iloc[:,181].to_numpy().reshape(1,1,df.shape[0])\n",
    "outcome = outcome.flatten()\n",
    "outcome[np.where(np.isnan(outcome))] = 0"
   ]
  },
  {
   "cell_type": "code",
   "execution_count": 11,
   "id": "3f72fcd4-2065-4840-a6f0-1459ee234973",
   "metadata": {},
   "outputs": [
    {
     "data": {
      "text/plain": [
       "[{'max': 1374.0, 'min': 0.0},\n",
       " {'max': 0.6708566953083422, 'min': -0.12461090070775589},\n",
       " {'max': 1424221.487843917, 'min': -1.0602960803596515}]"
      ]
     },
     "execution_count": 11,
     "metadata": {},
     "output_type": "execute_result"
    }
   ],
   "source": [
    "minmaxvals = [{'max': np.max(arr), 'min': np.min(arr)} for arr in [pressure_3d, shear_x_3d, shear_y_3d]]\n",
    "minmaxvals"
   ]
  },
  {
   "cell_type": "code",
   "execution_count": 17,
   "id": "4021b5a6",
   "metadata": {},
   "outputs": [],
   "source": [
    "import numpy as np\n",
    "from PIL import Image as im"
   ]
  },
  {
   "cell_type": "code",
   "execution_count": 12,
   "id": "267a9567",
   "metadata": {},
   "outputs": [],
   "source": [
    "data = [np.dstack((pressure_3d[:,:,i], shear_x_3d[:,:,i], shear_y_3d[:, :, i])) for i in range(shear_y.shape[0])]"
   ]
  },
  {
   "cell_type": "code",
   "execution_count": 13,
   "id": "eec0ca02-456c-41ac-b39b-89e6a81c03aa",
   "metadata": {},
   "outputs": [
    {
     "data": {
      "text/plain": [
       "((6, 6, 3), 1231)"
      ]
     },
     "execution_count": 13,
     "metadata": {},
     "output_type": "execute_result"
    }
   ],
   "source": [
    "data[0].shape, len(data)"
   ]
  },
  {
   "cell_type": "code",
   "execution_count": 14,
   "id": "b6b3d610",
   "metadata": {},
   "outputs": [
    {
     "data": {
      "text/plain": [
       "array([[[ 1.22637000e+03, -6.94541817e-02, -1.06029608e+00],\n",
       "        [ 1.18600000e+03, -1.50492236e-02, -3.48814888e-02],\n",
       "        [ 1.17900000e+03, -1.01707868e-02, -8.19108746e-03],\n",
       "        [ 1.22300000e+03, -4.28184720e-02,  9.93936079e-03],\n",
       "        [ 1.29500000e+03, -7.70004699e-02, -1.84361549e-02],\n",
       "        [ 1.34000000e+03, -2.86718080e-02, -4.96846407e-02]],\n",
       "\n",
       "       [[ 1.24000000e+03, -9.18207017e-02,  1.88596678e-01],\n",
       "        [ 1.17400000e+03,  2.20897404e-02, -2.57996164e-02],\n",
       "        [ 1.23000000e+03, -4.48243257e-02,  3.79204438e-02],\n",
       "        [ 1.19100000e+03,  2.73607921e-02, -8.36922189e-02],\n",
       "        [ 1.31000000e+03, -5.26963630e-02, -2.68620160e-02],\n",
       "        [ 1.30400000e+03,  4.25106302e-02,  3.35230824e-02]],\n",
       "\n",
       "       [[ 1.20500000e+03, -7.78837772e-02,  2.32135185e-01],\n",
       "        [ 1.16900000e+03,  1.12862337e-02, -4.10221267e-02],\n",
       "        [ 1.19500000e+03,  1.09649815e-02, -6.49201141e-02],\n",
       "        [ 1.23800000e+03, -2.50718528e-02, -1.57822499e-02],\n",
       "        [ 1.30300000e+03, -4.23358225e-02,  2.17083958e-04],\n",
       "        [ 1.30900000e+03,  1.80816085e-02,  6.63011344e-02]],\n",
       "\n",
       "       [[ 1.22800000e+03, -5.92668185e-02,  1.88843550e-01],\n",
       "        [ 1.17300000e+03, -3.68759650e-02,  1.18760701e-02],\n",
       "        [ 1.23400000e+03, -3.75113733e-02, -2.73401853e-02],\n",
       "        [ 1.23100000e+03, -4.28880673e-02,  6.58856261e-02],\n",
       "        [ 1.32100000e+03, -4.81852662e-02, -7.43590529e-03],\n",
       "        [ 1.35100000e+03, -2.88432908e-02,  6.26900923e-02]],\n",
       "\n",
       "       [[ 1.21700000e+03, -7.10561298e-02,  1.62129118e-01],\n",
       "        [ 1.20900000e+03, -1.45755031e-02, -3.54685865e-02],\n",
       "        [ 1.24200000e+03, -4.43410748e-02, -2.37678169e-03],\n",
       "        [ 1.25300000e+03, -3.40276594e-02,  2.31813819e-02],\n",
       "        [ 1.31600000e+03, -5.93888555e-02,  1.20196297e-02],\n",
       "        [ 1.27200000e+03,  7.10171615e-02,  2.18433071e-03]],\n",
       "\n",
       "       [[ 1.24200000e+03, -8.73718279e-02,  2.20933418e-01],\n",
       "        [ 1.17900000e+03,  6.67418674e-01, -4.24891604e-01],\n",
       "        [ 1.21500000e+03, -9.75002162e-02,  5.18459019e-02],\n",
       "        [ 1.24900000e+03, -1.21378457e-01,  1.36162261e-01],\n",
       "        [ 1.31000000e+03, -5.24931039e-02,  4.46371164e-02],\n",
       "        [ 1.34200000e+03, -1.11316344e-02,  2.78765687e-02]]])"
      ]
     },
     "execution_count": 14,
     "metadata": {},
     "output_type": "execute_result"
    }
   ],
   "source": [
    "data[0]"
   ]
  },
  {
   "cell_type": "code",
   "execution_count": 15,
   "id": "3678188d-0ae3-446b-88ad-34d0039d7595",
   "metadata": {},
   "outputs": [],
   "source": [
    "def normalize(arr):\n",
    "    arr = arr.astype('float')\n",
    "    for i in range(3):\n",
    "        minval = minmaxvals[i]['min']\n",
    "        maxval = minmaxvals[i]['max']\n",
    "        if minval != maxval:\n",
    "            arr[..., i] -= minval\n",
    "            arr[..., i] *= (255.0 / (maxval - minval))\n",
    "    return arr"
   ]
  },
  {
   "cell_type": "code",
   "execution_count": 18,
   "id": "b97532f3-7533-42b6-80e1-5ade4ef9a852",
   "metadata": {},
   "outputs": [
    {
     "data": {
      "image/png": "[encoded data removed]",
      "text/plain": [
       "<PIL.Image.Image image mode=RGB size=300x300>"
      ]
     },
     "execution_count": 18,
     "metadata": {},
     "output_type": "execute_result"
    }
   ],
   "source": [
    "img = im.fromarray(normalize(data[0]).astype('uint8'),'RGB')\n",
    "\n",
    "basewidth = 300\n",
    "wpercent = (basewidth / float(img.size[0]))\n",
    "hsize = int((float(img.size[1]) * float(wpercent)))\n",
    "img = img.resize((basewidth, hsize), im.Resampling.LANCZOS)\n",
    "img"
   ]
  },
  {
   "cell_type": "code",
   "execution_count": 19,
   "id": "9109c6d8-372b-48e6-b0be-655dd4af04bb",
   "metadata": {},
   "outputs": [],
   "source": [
    "import imageio"
   ]
  },
  {
   "cell_type": "code",
   "execution_count": 21,
   "id": "d3a34bd1-f14f-4bc0-b8ba-caba2dfe4eec",
   "metadata": {},
   "outputs": [
    {
     "name": "stderr",
     "output_type": "stream",
     "text": [
      "IMAGEIO FFMPEG_WRITER WARNING: input image is not divisible by macro_block_size=16, resizing from (300, 300) to (304, 304) to ensure video compatibility with most codecs and players. To prevent resizing, make your input image divisible by the macro_block_size or set the macro_block_size to 1 (risking incompatibility).\n",
      "IMAGEIO FFMPEG_WRITER WARNING: input image is not divisible by macro_block_size=16, resizing from (300, 300) to (304, 304) to ensure video compatibility with most codecs and players. To prevent resizing, make your input image divisible by the macro_block_size or set the macro_block_size to 1 (risking incompatibility).\n",
      "IMAGEIO FFMPEG_WRITER WARNING: input image is not divisible by macro_block_size=16, resizing from (300, 300) to (304, 304) to ensure video compatibility with most codecs and players. To prevent resizing, make your input image divisible by the macro_block_size or set the macro_block_size to 1 (risking incompatibility).\n",
      "IMAGEIO FFMPEG_WRITER WARNING: input image is not divisible by macro_block_size=16, resizing from (300, 300) to (304, 304) to ensure video compatibility with most codecs and players. To prevent resizing, make your input image divisible by the macro_block_size or set the macro_block_size to 1 (risking incompatibility).\n"
     ]
    }
   ],
   "source": [
    "writer = imageio.get_writer('all_channels.mp4', fps=30)\n",
    "writer_shearx = imageio.get_writer('shear_x.mp4', fps=30)\n",
    "writer_sheary = imageio.get_writer('shear_y.mp4', fps=30)\n",
    "writer_pressure = imageio.get_writer('pressure.mp4', fps=30)\n",
    "\n",
    "\n",
    "for instance in data:\n",
    "    img = im.fromarray(normalize(instance).astype('uint8'),'RGB')\n",
    "    img = img.resize((basewidth, hsize), im.Resampling.LANCZOS)\n",
    "    pressure, shear_x, shear_y = img.split()\n",
    "    \n",
    "    writer.append_data(np.array(img))\n",
    "    writer_pressure.append_data(np.array(pressure))\n",
    "    writer_shearx.append_data(np.array(shear_x))\n",
    "    writer_sheary.append_data(np.array(shear_y))\n",
    "\n",
    "writer.close()\n",
    "writer_pressure.close()\n",
    "writer_shearx.close()\n",
    "writer_sheary.close()"
   ]
  },
  {
   "cell_type": "markdown",
   "id": "91cfcc2c-a648-42bd-bfa6-220a07ca2a1e",
   "metadata": {},
   "source": [
    "# 3D CNN for video classification\n",
    "\n",
    "Follow tutorial: https://www.tensorflow.org/tutorials/video/video_classification"
   ]
  },
  {
   "cell_type": "code",
   "execution_count": null,
   "id": "37c5e6a9-d4ea-4ce8-b3d0-d6efc0882267",
   "metadata": {},
   "outputs": [],
   "source": [
    "import tqdm\n",
    "import random\n",
    "import pathlib\n",
    "import itertools\n",
    "import collections\n",
    "\n",
    "import cv2\n",
    "import einops\n",
    "import numpy as np\n",
    "import remotezip as rz\n",
    "import seaborn as sns\n",
    "import matplotlib.pyplot as plt\n",
    "\n",
    "import tensorflow as tf\n",
    "import keras\n",
    "from keras import layers"
   ]
  },
  {
   "cell_type": "code",
   "execution_count": null,
   "id": "64eb8ef8-663f-46cb-ae35-6864790182a1",
   "metadata": {},
   "outputs": [],
   "source": [
    "def list_files_per_class(zip_url):\n",
    "    \"\"\"\n",
    "    List the files in each class of the dataset given the zip URL.\n",
    "\n",
    "    Args:\n",
    "      zip_url: URL from which the files can be unzipped. \n",
    "\n",
    "    Return:\n",
    "      files: List of files in each of the classes.\n",
    "    \"\"\"\n",
    "    files = []\n",
    "    with rz.RemoteZip(URL) as zip:\n",
    "        for zip_info in zip.infolist():\n",
    "            files.append(zip_info.filename)\n",
    "    return files\n",
    "\n",
    "def get_class(fname):\n",
    "  \"\"\"\n",
    "    Retrieve the name of the class given a filename.\n",
    "\n",
    "    Args:\n",
    "      fname: Name of the file in the UCF101 dataset.\n",
    "\n",
    "    Return:\n",
    "      Class that the file belongs to.\n",
    "  \"\"\"\n",
    "  return fname.split('_')[-3]\n",
    "\n",
    "def get_files_per_class(files):\n",
    "  \"\"\"\n",
    "    Retrieve the files that belong to each class. \n",
    "\n",
    "    Args:\n",
    "      files: List of files in the dataset.\n",
    "\n",
    "    Return:\n",
    "      Dictionary of class names (key) and files (values).\n",
    "  \"\"\"\n",
    "    files_for_class = collections.defaultdict(list)\n",
    "    for fname in files:\n",
    "        class_name = get_class(fname)\n",
    "        files_for_class[class_name].append(fname)\n",
    "    return files_for_class\n",
    "\n",
    "def download_from_zip(zip_url, to_dir, file_names):\n",
    "    \"\"\"\n",
    "    Download the contents of the zip file from the zip URL.\n",
    "\n",
    "    Args:\n",
    "      zip_url: Zip URL containing data.\n",
    "      to_dir: Directory to download data to.\n",
    "      file_names: Names of files to download.\n",
    "    \"\"\"\n",
    "    with rz.RemoteZip(zip_url) as zip:\n",
    "        for fn in tqdm.tqdm(file_names):\n",
    "            class_name = get_class(fn)\n",
    "            zip.extract(fn, str(to_dir / class_name))\n",
    "            unzipped_file = to_dir / class_name / fn\n",
    "\n",
    "            fn = pathlib.Path(fn).parts[-1]\n",
    "            output_file = to_dir / class_name / fn\n",
    "            unzipped_file.rename(output_file,)\n",
    "\n",
    "def split_class_lists(files_for_class, count):\n",
    "    \"\"\"\n",
    "    Returns the list of files belonging to a subset of data as well as the remainder of\n",
    "    files that need to be downloaded.\n",
    "\n",
    "    Args:\n",
    "      files_for_class: Files belonging to a particular class of data.\n",
    "      count: Number of files to download.\n",
    "\n",
    "    Return:\n",
    "      split_files: Files belonging to the subset of data.\n",
    "      remainder: Dictionary of the remainder of files that need to be downloaded.\n",
    "    \"\"\"\n",
    "    split_files = []\n",
    "    remainder = {}\n",
    "    for cls in files_for_class:\n",
    "        split_files.extend(files_for_class[cls][:count])\n",
    "        remainder[cls] = files_for_class[cls][count:]\n",
    "    return split_files, remainder\n",
    "\n",
    "def download_ufc_101_subset(zip_url, num_classes, splits, download_dir):\n",
    "    \"\"\"\n",
    "    Download a subset of the UFC101 dataset and split them into various parts, such as\n",
    "    training, validation, and test. \n",
    "\n",
    "    Args:\n",
    "      zip_url: Zip URL containing data.\n",
    "      num_classes: Number of labels.\n",
    "      splits: Dictionary specifying the training, validation, test, etc. (key) division of data \n",
    "              (value is number of files per split).\n",
    "      download_dir: Directory to download data to.\n",
    "\n",
    "    Return:\n",
    "      dir: Posix path of the resulting directories containing the splits of data.\n",
    "    \"\"\"\n",
    "    files = list_files_per_class(zip_url)\n",
    "    for f in files:\n",
    "        tokens = f.split('/')\n",
    "        if len(tokens) <= 2:\n",
    "            files.remove(f) # Remove that item from the list if it does not have a filename\n",
    "\n",
    "    files_for_class = get_files_per_class(files)\n",
    "\n",
    "    classes = list(files_for_class.keys())[:num_classes]\n",
    "\n",
    "    for cls in classes:\n",
    "        new_files_for_class = files_for_class[cls]\n",
    "        random.shuffle(new_files_for_class)\n",
    "        files_for_class[cls] = new_files_for_class\n",
    "\n",
    "    # Only use the number of classes you want in the dictionary\n",
    "    files_for_class = {x: files_for_class[x] for x in list(files_for_class)[:num_classes]}\n",
    "\n",
    "    dirs = {}\n",
    "    for split_name, split_count in splits.items():\n",
    "        print(split_name, \":\")\n",
    "        split_dir = download_dir / split_name\n",
    "        split_files, files_for_class = split_class_lists(files_for_class, split_count)\n",
    "        download_from_zip(zip_url, split_dir, split_files)\n",
    "        dirs[split_name] = split_dir\n",
    "        \n",
    "    return dirs\n",
    "\n",
    "def format_frames(frame, output_size):\n",
    "    \"\"\"\n",
    "    Pad and resize an image from a video.\n",
    "\n",
    "    Args:\n",
    "      frame: Image that needs to resized and padded. \n",
    "      output_size: Pixel size of the output frame image.\n",
    "\n",
    "    Return:\n",
    "      Formatted frame with padding of specified output size.\n",
    "    \"\"\"\n",
    "    frame = tf.image.convert_image_dtype(frame, tf.float32)\n",
    "    frame = tf.image.resize_with_pad(frame, *output_size)\n",
    "    return frame\n",
    "\n",
    "def frames_from_video_file(video_path, n_frames, output_size = (224,224), frame_step = 15):\n",
    "    \"\"\"\n",
    "    Creates frames from each video file present for each category.\n",
    "\n",
    "    Args:\n",
    "      video_path: File path to the video.\n",
    "      n_frames: Number of frames to be created per video file.\n",
    "      output_size: Pixel size of the output frame image.\n",
    "\n",
    "    Return:\n",
    "      An NumPy array of frames in the shape of (n_frames, height, width, channels).\n",
    "    \"\"\"\n",
    "    # Read each video frame by frame\n",
    "    result = []\n",
    "    src = cv2.VideoCapture(str(video_path))  \n",
    "\n",
    "    video_length = src.get(cv2.CAP_PROP_FRAME_COUNT)\n",
    "\n",
    "    need_length = 1 + (n_frames - 1) * frame_step\n",
    "\n",
    "    if need_length > video_length:\n",
    "        start = 0\n",
    "    else:\n",
    "        max_start = video_length - need_length\n",
    "        start = random.randint(0, max_start + 1)\n",
    "\n",
    "    src.set(cv2.CAP_PROP_POS_FRAMES, start)\n",
    "    # ret is a boolean indicating whether read was successful, frame is the image itself\n",
    "    ret, frame = src.read()\n",
    "    result.append(format_frames(frame, output_size))\n",
    "\n",
    "    for _ in range(n_frames - 1):\n",
    "        for _ in range(frame_step):\n",
    "            ret, frame = src.read()\n",
    "        if ret:\n",
    "            frame = format_frames(frame, output_size)\n",
    "            result.append(frame)\n",
    "        else:\n",
    "            result.append(np.zeros_like(result[0]))\n",
    "    src.release()\n",
    "    result = np.array(result)[..., [2, 1, 0]]\n",
    "\n",
    "    return result\n",
    "\n",
    "class FrameGenerator:\n",
    "    def __init__(self, path, n_frames, training = False):\n",
    "    \"\"\" Returns a set of frames with their associated label. \n",
    "\n",
    "      Args:\n",
    "        path: Video file paths.\n",
    "        n_frames: Number of frames. \n",
    "        training: Boolean to determine if training dataset is being created.\n",
    "    \"\"\"\n",
    "        self.path = path\n",
    "        self.n_frames = n_frames\n",
    "        self.training = training\n",
    "        self.class_names = sorted(set(p.name for p in self.path.iterdir() if p.is_dir()))\n",
    "        self.class_ids_for_name = dict((name, idx) for idx, name in enumerate(self.class_names))\n",
    "\n",
    "    def get_files_and_class_names(self):\n",
    "        video_paths = list(self.path.glob('*/*.avi'))\n",
    "        classes = [p.parent.name for p in video_paths] \n",
    "        return video_paths, classes\n",
    "\n",
    "    def __call__(self):\n",
    "        video_paths, classes = self.get_files_and_class_names()\n",
    "\n",
    "        pairs = list(zip(video_paths, classes))\n",
    "\n",
    "        if self.training:\n",
    "            random.shuffle(pairs)\n",
    "\n",
    "        for path, name in pairs:\n",
    "            video_frames = frames_from_video_file(path, self.n_frames) \n",
    "            label = self.class_ids_for_name[name] # Encode labels\n",
    "            yield video_frames, label"
   ]
  },
  {
   "cell_type": "code",
   "execution_count": null,
   "id": "4d0e0e71-fc56-444a-bb17-c31890fe81da",
   "metadata": {},
   "outputs": [],
   "source": [
    "URL = 'https://storage.googleapis.com/thumos14_files/UCF101_videos.zip'\n",
    "download_dir = pathlib.Path('./UCF101_subset/')\n",
    "subset_paths = download_ufc_101_subset(URL, \n",
    "                        num_classes = 10, \n",
    "                        splits = {\"train\": 30, \"val\": 10, \"test\": 10},\n",
    "                        download_dir = download_dir)"
   ]
  },
  {
   "cell_type": "code",
   "execution_count": null,
   "id": "d14426a9-b38e-4e3c-9382-6b91505072b6",
   "metadata": {},
   "outputs": [],
   "source": [
    "n_frames = 10\n",
    "batch_size = 8\n",
    "\n",
    "output_signature = (tf.TensorSpec(shape = (None, None, None, 3), dtype = tf.float32),\n",
    "                    tf.TensorSpec(shape = (), dtype = tf.int16))\n",
    "\n",
    "train_ds = tf.data.Dataset.from_generator(FrameGenerator(subset_paths['train'], n_frames, training=True),\n",
    "                                          output_signature = output_signature)\n",
    "\n",
    "\n",
    "# Batch the data\n",
    "train_ds = train_ds.batch(batch_size)\n",
    "\n",
    "val_ds = tf.data.Dataset.from_generator(FrameGenerator(subset_paths['val'], n_frames),\n",
    "                                        output_signature = output_signature)\n",
    "val_ds = val_ds.batch(batch_size)\n",
    "\n",
    "test_ds = tf.data.Dataset.from_generator(FrameGenerator(subset_paths['test'], n_frames),\n",
    "                                         output_signature = output_signature)\n",
    "\n",
    "test_ds = test_ds.batch(batch_size)"
   ]
  },
  {
   "cell_type": "code",
   "execution_count": null,
   "id": "73d83ed3-fd17-46b5-9b59-3ce17d917a8f",
   "metadata": {},
   "outputs": [],
   "source": [
    "# Define the dimensions of one frame in the set of frames created\n",
    "HEIGHT = 224\n",
    "WIDTH = 224"
   ]
  },
  {
   "cell_type": "code",
   "execution_count": null,
   "id": "52791fcf-0b46-449b-b88f-29c51ab5a469",
   "metadata": {},
   "outputs": [],
   "source": [
    "class Conv2Plus1D(keras.layers.Layer):\n",
    "    def __init__(self, filters, kernel_size, padding):\n",
    "    \"\"\"\n",
    "      A sequence of convolutional layers that first apply the convolution operation over the\n",
    "      spatial dimensions, and then the temporal dimension. \n",
    "    \"\"\"\n",
    "    super().__init__()\n",
    "    self.seq = keras.Sequential([  \n",
    "        # Spatial decomposition\n",
    "        layers.Conv3D(filters=filters,\n",
    "                      kernel_size=(1, kernel_size[1], kernel_size[2]),\n",
    "                      padding=padding),\n",
    "        # Temporal decomposition\n",
    "        layers.Conv3D(filters=filters, \n",
    "                      kernel_size=(kernel_size[0], 1, 1),\n",
    "                      padding=padding)\n",
    "        ])\n",
    "\n",
    "    def call(self, x):\n",
    "        return self.seq(x)"
   ]
  },
  {
   "cell_type": "code",
   "execution_count": null,
   "id": "d729143e-32b3-4ba3-80ed-8d3d98eac3c7",
   "metadata": {},
   "outputs": [],
   "source": [
    "class ResidualMain(keras.layers.Layer):\n",
    "    \"\"\"\n",
    "    Residual block of the model with convolution, layer normalization, and the\n",
    "    activation function, ReLU.\n",
    "    \"\"\"\n",
    "    def __init__(self, filters, kernel_size):\n",
    "        super().__init__()\n",
    "        self.seq = keras.Sequential([\n",
    "            Conv2Plus1D(filters=filters,\n",
    "                        kernel_size=kernel_size,\n",
    "                        padding='same'),\n",
    "            layers.LayerNormalization(),\n",
    "            layers.ReLU(),\n",
    "            Conv2Plus1D(filters=filters, \n",
    "                        kernel_size=kernel_size,\n",
    "                        padding='same'),\n",
    "            layers.LayerNormalization()\n",
    "        ])\n",
    "\n",
    "    def call(self, x):\n",
    "        return self.seq(x)"
   ]
  },
  {
   "cell_type": "code",
   "execution_count": null,
   "id": "a6018a1a-eccc-4501-a607-ea0aafdf7556",
   "metadata": {},
   "outputs": [],
   "source": [
    "class Project(keras.layers.Layer):\n",
    "    \"\"\"\n",
    "    Project certain dimensions of the tensor as the data is passed through different \n",
    "    sized filters and downsampled. \n",
    "    \"\"\"\n",
    "    def __init__(self, units):\n",
    "        super().__init__()\n",
    "        self.seq = keras.Sequential([\n",
    "            layers.Dense(units),\n",
    "            layers.LayerNormalization()\n",
    "        ])\n",
    "\n",
    "    def call(self, x):\n",
    "        return self.seq(x)"
   ]
  },
  {
   "cell_type": "code",
   "execution_count": null,
   "id": "952ba619-2602-4636-8dfd-a0a3113ede7e",
   "metadata": {},
   "outputs": [],
   "source": [
    "def add_residual_block(input, filters, kernel_size):\n",
    "    \"\"\"\n",
    "    Add residual blocks to the model. If the last dimensions of the input data\n",
    "    and filter size does not match, project it such that last dimension matches.\n",
    "    \"\"\"\n",
    "    out = ResidualMain(filters, \n",
    "                     kernel_size)(input)\n",
    "\n",
    "    res = input\n",
    "    # Using the Keras functional APIs, project the last dimension of the tensor to\n",
    "    # match the new filter size\n",
    "    if out.shape[-1] != input.shape[-1]:\n",
    "        res = Project(out.shape[-1])(res)\n",
    "\n",
    "    return layers.add([res, out])"
   ]
  },
  {
   "cell_type": "code",
   "execution_count": null,
   "id": "0701bb3b-9412-435d-8f5c-91334d7c8d3c",
   "metadata": {},
   "outputs": [],
   "source": [
    "class ResizeVideo(keras.layers.Layer):\n",
    "    def __init__(self, height, width):\n",
    "        super().__init__()\n",
    "        self.height = height\n",
    "        self.width = width\n",
    "        self.resizing_layer = layers.Resizing(self.height, self.width)\n",
    "\n",
    "    def call(self, video):\n",
    "    \"\"\"\n",
    "      Use the einops library to resize the tensor.  \n",
    "\n",
    "      Args:\n",
    "        video: Tensor representation of the video, in the form of a set of frames.\n",
    "\n",
    "      Return:\n",
    "        A downsampled size of the video according to the new height and width it should be resized to.\n",
    "    \"\"\"\n",
    "        # b stands for batch size, t stands for time, h stands for height, \n",
    "        # w stands for width, and c stands for the number of channels.\n",
    "        old_shape = einops.parse_shape(video, 'b t h w c')\n",
    "        images = einops.rearrange(video, 'b t h w c -> (b t) h w c')\n",
    "        images = self.resizing_layer(images)\n",
    "        videos = einops.rearrange(\n",
    "            images, '(b t) h w c -> b t h w c',\n",
    "            t = old_shape['t'])\n",
    "        return videos"
   ]
  },
  {
   "cell_type": "code",
   "execution_count": null,
   "id": "a0f4759f-a53d-450c-8501-bc562bb47e3e",
   "metadata": {},
   "outputs": [],
   "source": [
    "input_shape = (None, 10, HEIGHT, WIDTH, 3)\n",
    "input = layers.Input(shape=(input_shape[1:]))\n",
    "x = input\n",
    "\n",
    "x = Conv2Plus1D(filters=16, kernel_size=(3, 7, 7), padding='same')(x)\n",
    "x = layers.BatchNormalization()(x)\n",
    "x = layers.ReLU()(x)\n",
    "x = ResizeVideo(HEIGHT // 2, WIDTH // 2)(x)\n",
    "\n",
    "# Block 1\n",
    "x = add_residual_block(x, 16, (3, 3, 3))\n",
    "x = ResizeVideo(HEIGHT // 4, WIDTH // 4)(x)\n",
    "\n",
    "# Block 2\n",
    "x = add_residual_block(x, 32, (3, 3, 3))\n",
    "x = ResizeVideo(HEIGHT // 8, WIDTH // 8)(x)\n",
    "\n",
    "# Block 3\n",
    "x = add_residual_block(x, 64, (3, 3, 3))\n",
    "x = ResizeVideo(HEIGHT // 16, WIDTH // 16)(x)\n",
    "\n",
    "# Block 4\n",
    "x = add_residual_block(x, 128, (3, 3, 3))\n",
    "\n",
    "x = layers.GlobalAveragePooling3D()(x)\n",
    "x = layers.Flatten()(x)\n",
    "x = layers.Dense(10)(x)\n",
    "\n",
    "model = keras.Model(input, x)"
   ]
  },
  {
   "cell_type": "code",
   "execution_count": null,
   "id": "ece66290-1c35-4279-8aa7-7412609a1646",
   "metadata": {},
   "outputs": [],
   "source": [
    "frames, label = next(iter(train_ds))\n",
    "model.build(frames)"
   ]
  },
  {
   "cell_type": "code",
   "execution_count": null,
   "id": "f09cc492-7df1-44e9-a1e4-79ef4c9e5839",
   "metadata": {},
   "outputs": [],
   "source": [
    "# Visualize the model\n",
    "keras.utils.plot_model(model, expand_nested=True, dpi=60, show_shapes=True)"
   ]
  },
  {
   "cell_type": "code",
   "execution_count": null,
   "id": "19875585-4c15-4947-a83b-c47a2910282b",
   "metadata": {},
   "outputs": [],
   "source": [
    "model.compile(loss = keras.losses.SparseCategoricalCrossentropy(from_logits=True), \n",
    "              optimizer = keras.optimizers.Adam(learning_rate = 0.0001), \n",
    "              metrics = ['accuracy'])"
   ]
  },
  {
   "cell_type": "code",
   "execution_count": null,
   "id": "5adce6df-63c3-4311-8731-837c65a81ac1",
   "metadata": {},
   "outputs": [],
   "source": [
    "history = model.fit(x = train_ds,\n",
    "                    epochs = 50, \n",
    "                    validation_data = val_ds)"
   ]
  },
  {
   "cell_type": "code",
   "execution_count": null,
   "id": "2eb03e4f-7cca-4eda-a30e-5c15a59747af",
   "metadata": {},
   "outputs": [],
   "source": [
    "def plot_history(history):\n",
    "    \"\"\"\n",
    "    Plotting training and validation learning curves.\n",
    "\n",
    "    Args:\n",
    "      history: model history with all the metric measures\n",
    "    \"\"\"\n",
    "    fig, (ax1, ax2) = plt.subplots(2)\n",
    "\n",
    "    fig.set_size_inches(18.5, 10.5)\n",
    "\n",
    "    # Plot loss\n",
    "    ax1.set_title('Loss')\n",
    "    ax1.plot(history.history['loss'], label = 'train')\n",
    "    ax1.plot(history.history['val_loss'], label = 'test')\n",
    "    ax1.set_ylabel('Loss')\n",
    "\n",
    "    # Determine upper bound of y-axis\n",
    "    max_loss = max(history.history['loss'] + history.history['val_loss'])\n",
    "\n",
    "    ax1.set_ylim([0, np.ceil(max_loss)])\n",
    "    ax1.set_xlabel('Epoch')\n",
    "    ax1.legend(['Train', 'Validation']) \n",
    "\n",
    "    # Plot accuracy\n",
    "    ax2.set_title('Accuracy')\n",
    "    ax2.plot(history.history['accuracy'],  label = 'train')\n",
    "    ax2.plot(history.history['val_accuracy'], label = 'test')\n",
    "    ax2.set_ylabel('Accuracy')\n",
    "    ax2.set_ylim([0, 1])\n",
    "    ax2.set_xlabel('Epoch')\n",
    "    ax2.legend(['Train', 'Validation'])\n",
    "\n",
    "    plt.show()\n",
    "\n",
    "plot_history(history)"
   ]
  },
  {
   "cell_type": "code",
   "execution_count": null,
   "id": "7c8f39c6-bf0a-4495-a5a3-3d7c92fa7db0",
   "metadata": {},
   "outputs": [],
   "source": [
    "model.evaluate(test_ds, return_dict=True)"
   ]
  },
  {
   "cell_type": "code",
   "execution_count": null,
   "id": "a2ac7c23-064f-4fc7-bf44-5053752b0bc7",
   "metadata": {},
   "outputs": [],
   "source": [
    "def get_actual_predicted_labels(dataset): \n",
    "    \"\"\"\n",
    "    Create a list of actual ground truth values and the predictions from the model.\n",
    "\n",
    "    Args:\n",
    "      dataset: An iterable data structure, such as a TensorFlow Dataset, with features and labels.\n",
    "\n",
    "    Return:\n",
    "      Ground truth and predicted values for a particular dataset.\n",
    "    \"\"\"\n",
    "    actual = [labels for _, labels in dataset.unbatch()]\n",
    "    predicted = model.predict(dataset)\n",
    "\n",
    "    actual = tf.stack(actual, axis=0)\n",
    "    predicted = tf.concat(predicted, axis=0)\n",
    "    predicted = tf.argmax(predicted, axis=1)\n",
    "\n",
    "    return actual, predicted"
   ]
  },
  {
   "cell_type": "code",
   "execution_count": null,
   "id": "b85e1251-2615-4328-8cb0-228ce3c6406f",
   "metadata": {},
   "outputs": [],
   "source": [
    "fg = FrameGenerator(subset_paths['train'], n_frames, training=True)\n",
    "labels = list(fg.class_ids_for_name.keys())"
   ]
  },
  {
   "cell_type": "code",
   "execution_count": null,
   "id": "bcbef896-6f59-42d0-8758-aeb1342e11d0",
   "metadata": {},
   "outputs": [],
   "source": [
    "actual, predicted = get_actual_predicted_labels(train_ds)\n",
    "plot_confusion_matrix(actual, predicted, labels, 'training')"
   ]
  },
  {
   "cell_type": "code",
   "execution_count": null,
   "id": "8c798597-1612-4bd1-a4c8-99e4f72d890e",
   "metadata": {},
   "outputs": [],
   "source": [
    "actual, predicted = get_actual_predicted_labels(test_ds)\n",
    "plot_confusion_matrix(actual, predicted, labels, 'test')"
   ]
  },
  {
   "cell_type": "code",
   "execution_count": null,
   "id": "08b9606a-a1a7-4850-ab04-3f5abc8d7be4",
   "metadata": {},
   "outputs": [],
   "source": [
    "def calculate_classification_metrics(y_actual, y_pred, labels):\n",
    "    \"\"\"\n",
    "    Calculate the precision and recall of a classification model using the ground truth and\n",
    "    predicted values. \n",
    "\n",
    "    Args:\n",
    "      y_actual: Ground truth labels.\n",
    "      y_pred: Predicted labels.\n",
    "      labels: List of classification labels.\n",
    "\n",
    "    Return:\n",
    "      Precision and recall measures.\n",
    "    \"\"\"\n",
    "    cm = tf.math.confusion_matrix(y_actual, y_pred)\n",
    "    tp = np.diag(cm) # Diagonal represents true positives\n",
    "    precision = dict()\n",
    "    recall = dict()\n",
    "    for i in range(len(labels)):\n",
    "    col = cm[:, i]\n",
    "    fp = np.sum(col) - tp[i] # Sum of column minus true positive is false negative\n",
    "\n",
    "    row = cm[i, :]\n",
    "    fn = np.sum(row) - tp[i] # Sum of row minus true positive, is false negative\n",
    "\n",
    "    precision[labels[i]] = tp[i] / (tp[i] + fp) # Precision \n",
    "\n",
    "    recall[labels[i]] = tp[i] / (tp[i] + fn) # Recall\n",
    "\n",
    "    return precision, recall"
   ]
  },
  {
   "cell_type": "code",
   "execution_count": null,
   "id": "88ff1486-c040-4092-91ea-163f23f4b873",
   "metadata": {},
   "outputs": [],
   "source": [
    "precision, recall = calculate_classification_metrics(actual, predicted, labels) # Test dataset"
   ]
  },
  {
   "cell_type": "code",
   "execution_count": null,
   "id": "e3ece662-23e6-44a5-9f87-f9dd7d61ceb9",
   "metadata": {},
   "outputs": [],
   "source": [
    "precision"
   ]
  },
  {
   "cell_type": "code",
   "execution_count": null,
   "id": "9c33bbee-517b-4bb0-95f3-937add149f40",
   "metadata": {},
   "outputs": [],
   "source": [
    "recall"
   ]
  }
 ],
 "metadata": {
  "kernelspec": {
   "display_name": "Python 3 (ipykernel)",
   "language": "python",
   "name": "python3"
  },
  "language_info": {
   "codemirror_mode": {
    "name": "ipython",
    "version": 3
   },
   "file_extension": ".py",
   "mimetype": "text/x-python",
   "name": "python",
   "nbconvert_exporter": "python",
   "pygments_lexer": "ipython3",
   "version": "3.9.12"
  }
 },
 "nbformat": 4,
 "nbformat_minor": 5
}
